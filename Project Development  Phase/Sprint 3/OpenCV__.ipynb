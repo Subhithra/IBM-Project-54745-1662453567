{
  "cells": [
    {
      "cell_type": "markdown",
      "metadata": {
        "id": "FbTFFchDHV9T"
      },
      "source": [
        "# IBM Project Name: Real-Time Communication System Powered by AI for Specially Abled \n",
        "# TEAM ID: PNT2022TMID37805\n",
        "\n",
        "\n",
        "# Importing req. lib."
      ]
    },
    {
      "cell_type": "code",
      "execution_count": null,
      "metadata": {
        "id": "j30hHpyrHHGx"
      },
      "outputs": [],
      "source": [
        "import cv2\n",
        "import numpy as np\n",
        "import matplotlib.pyplot as plt"
      ]
    },
    {
      "cell_type": "markdown",
      "metadata": {
        "id": "JCqELHdnIOPI"
      },
      "source": [
        "# Image processiong"
      ]
    },
    {
      "cell_type": "code",
      "execution_count": null,
      "metadata": {
        "colab": {
          "base_uri": "https://localhost:8080/",
          "height": 286
        },
        "id": "NQSQ1rnkICCx",
        "outputId": "dde19263-cc59-4961-9989-073c3831022b"
      },
      "outputs": [
        {
          "data": {
            "text/plain": [
              "<matplotlib.image.AxesImage at 0x7fe002e68d10>"
            ]
          },
          "execution_count": 17,
          "metadata": {},
          "output_type": "execute_result"
        },
        {
          "data": {
            "image/png": "[encoded data removed]",
            "text/plain": [
              "<Figure size 432x288 with 1 Axes>"
            ]
          },
          "metadata": {
            "needs_background": "light"
          },
          "output_type": "display_data"
        }
      ],
      "source": [
        "# Create a image\n",
        "\n",
        "img1 = np.zeros((400,600,3),np.uint8)\n",
        "plt.imshow(img1)"
      ]
    },
    {
      "cell_type": "code",
      "execution_count": null,
      "metadata": {
        "id": "FEhOsGzYImaQ"
      },
      "outputs": [],
      "source": [
        "# Drawing Functions"
      ]
    },
    {
      "cell_type": "code",
      "execution_count": null,
      "metadata": {
        "colab": {
          "base_uri": "https://localhost:8080/",
          "height": 286
        },
        "id": "CvGTm2mQKB0C",
        "outputId": "bcc132d1-64ae-46f4-a9ce-b5d960b1e0e0"
      },
      "outputs": [
        {
          "data": {
            "text/plain": [
              "<matplotlib.image.AxesImage at 0x7fe002d6ded0>"
            ]
          },
          "execution_count": 19,
          "metadata": {},
          "output_type": "execute_result"
        },
        {
          "data": {
            "image/png": "[encoded data removed]",
            "text/plain": [
              "<Figure size 432x288 with 1 Axes>"
            ]
          },
          "metadata": {
            "needs_background": "light"
          },
          "output_type": "display_data"
        }
      ],
      "source": [
        "# Draw a circle\n",
        "\n",
        "circle = cv2.circle(img1, (300,200), 50, (255,0,0), -1)   # (0,0,0)--->(R,G,B)\n",
        "plt.imshow(img1)"
      ]
    },
    {
      "cell_type": "code",
      "execution_count": null,
      "metadata": {
        "colab": {
          "base_uri": "https://localhost:8080/",
          "height": 286
        },
        "id": "eeB3WMD8Lv2t",
        "outputId": "1278384b-864a-428d-fa17-b15d3c61b6be"
      },
      "outputs": [
        {
          "data": {
            "text/plain": [
              "<matplotlib.image.AxesImage at 0x7fe002ce4390>"
            ]
          },
          "execution_count": 20,
          "metadata": {},
          "output_type": "execute_result"
        },
        {
          "data": {
            "image/png": "[encoded data removed]",
            "text/plain": [
              "<Figure size 432x288 with 1 Axes>"
            ]
          },
          "metadata": {
            "needs_background": "light"
          },
          "output_type": "display_data"
        }
      ],
      "source": [
        "# Drawing rectangle\n",
        "\n",
        "rectangle = cv2.rectangle(img1,(200,100),(400,300),(0,255,0),6)\n",
        "plt.imshow(img1)"
      ]
    },
    {
      "cell_type": "code",
      "execution_count": null,
      "metadata": {
        "colab": {
          "base_uri": "https://localhost:8080/",
          "height": 286
        },
        "id": "HznJ5k5jM6Fe",
        "outputId": "ce6c452d-a2f6-483e-b5af-4d5286b5702a"
      },
      "outputs": [
        {
          "data": {
            "text/plain": [
              "<matplotlib.image.AxesImage at 0x7fe002ba21d0>"
            ]
          },
          "execution_count": 22,
          "metadata": {},
          "output_type": "execute_result"
        },
        {
          "data": {
            "image/png": "[encoded data removed]",
            "text/plain": [
              "<Figure size 432x288 with 1 Axes>"
            ]
          },
          "metadata": {
            "needs_background": "light"
          },
          "output_type": "display_data"
        }
      ],
      "source": [
        "# Drawing line\n",
        "\n",
        "line1 = cv2.line(img1,(200,100),(400,300),(0,0,255),4)\n",
        "line2 = cv2.line(img1,(200,300),(400,100),(0,0,255),4)\n",
        "plt.imshow(img1)"
      ]
    },
    {
      "cell_type": "code",
      "execution_count": null,
      "metadata": {
        "colab": {
          "base_uri": "https://localhost:8080/",
          "height": 286
        },
        "id": "3Ms_lsOeOJm4",
        "outputId": "4bffb527-6b78-4cdc-8fbc-f20349803f0a"
      },
      "outputs": [
        {
          "data": {
            "text/plain": [
              "<matplotlib.image.AxesImage at 0x7fe00293c210>"
            ]
          },
          "execution_count": 27,
          "metadata": {},
          "output_type": "execute_result"
        },
        {
          "data": {
            "image/png": "[encoded data removed]",
            "text/plain": [
              "<Figure size 432x288 with 1 Axes>"
            ]
          },
          "metadata": {
            "needs_background": "light"
          },
          "output_type": "display_data"
        }
      ],
      "source": [
        "circle = cv2.circle(img1, (300,200), 50, (255,255,0), -1)   # (0,0,0)--->(R,G,B)\n",
        "plt.imshow(img1)"
      ]
    },
    {
      "cell_type": "code",
      "execution_count": null,
      "metadata": {
        "colab": {
          "base_uri": "https://localhost:8080/",
          "height": 286
        },
        "id": "c2iw1-0pOaJ1",
        "outputId": "0447ddc2-8327-49e2-d3ac-425405bb89ff"
      },
      "outputs": [
        {
          "data": {
            "text/plain": [
              "<matplotlib.image.AxesImage at 0x7fe002924c90>"
            ]
          },
          "execution_count": 28,
          "metadata": {},
          "output_type": "execute_result"
        },
        {
          "data": {
            "image/png": "[encoded data removed]",
            "text/plain": [
              "<Figure size 432x288 with 1 Axes>"
            ]
          },
          "metadata": {
            "needs_background": "light"
          },
          "output_type": "display_data"
        }
      ],
      "source": [
        "# Text on image\n",
        "\n",
        "text = cv2.putText(img1, 'openCV', (200,50), cv2.FONT_HERSHEY_SIMPLEX, 2, (255,255,255),5)\n",
        "plt.imshow(img1)"
      ]
    },
    {
      "cell_type": "code",
      "execution_count": null,
      "metadata": {
        "id": "FRdBaXm-Phkd"
      },
      "outputs": [],
      "source": [
        "# Reading the image\n",
        "\n",
        "img = cv2.imread('/content/boy.jpg',1)\n",
        "plt.imshow(img)"
      ]
    },
    {
      "cell_type": "code",
      "execution_count": null,
      "metadata": {
        "id": "52mgU4MFRm1B"
      },
      "outputs": [],
      "source": [
        "# Convert BGR to RGB\n",
        "\n",
        "img_rgb = cv2.cvtColor(img, cv2.COLOR_BGR2RGB)\n",
        "plt.imshow(img_rgb)"
      ]
    },
    {
      "cell_type": "code",
      "execution_count": null,
      "metadata": {
        "id": "39l-qB_ISwzn"
      },
      "outputs": [],
      "source": [
        "# Convert BGR to Gray\n",
        "\n",
        "img_gray = cv2.cvtColor(img, cv2.COLOR_BGR2GRAY)\n",
        "plt.imshow(img_gray)"
      ]
    },
    {
      "cell_type": "code",
      "execution_count": null,
      "metadata": {
        "colab": {
          "base_uri": "https://localhost:8080/"
        },
        "id": "INwmbSpVXQSa",
        "outputId": "f9320227-5de9-41fc-fe8f-c67d85fa0bd0"
      },
      "outputs": [
        {
          "data": {
            "text/plain": [
              "(983, 736, 3)"
            ]
          },
          "execution_count": 36,
          "metadata": {},
          "output_type": "execute_result"
        }
      ],
      "source": [
        "# Finding shape\n",
        "\n",
        "img_rgb.shape"
      ]
    },
    {
      "cell_type": "code",
      "execution_count": null,
      "metadata": {
        "colab": {
          "base_uri": "https://localhost:8080/"
        },
        "id": "bbzGSiu_aDCi",
        "outputId": "04d60900-479c-4991-a29a-d7a11bbe1414"
      },
      "outputs": [
        {
          "data": {
            "text/plain": [
              "(983, 736)"
            ]
          },
          "execution_count": 46,
          "metadata": {},
          "output_type": "execute_result"
        }
      ],
      "source": [
        "img_gray.shape"
      ]
    },
    {
      "cell_type": "code",
      "execution_count": null,
      "metadata": {
        "id": "PVKBRnhZTBeW"
      },
      "outputs": [],
      "source": [
        "# Resize the image\n",
        "\n",
        "resize = cv2.resize(img_rgb,(500,1000))\n",
        "print(resize.shape)\n",
        "plt.imshow(resize)"
      ]
    },
    {
      "cell_type": "code",
      "execution_count": null,
      "metadata": {
        "id": "rkVwvG2VXgSr"
      },
      "outputs": [],
      "source": [
        "# Image crop\n",
        "\n",
        "crop = resize[130:370,150:300]\n",
        "plt.imshow(crop)"
      ]
    },
    {
      "cell_type": "code",
      "execution_count": null,
      "metadata": {
        "id": "ML4ZsM_gY8wH"
      },
      "outputs": [],
      "source": [
        "# Edge Detection\n",
        "\n",
        "edge = cv2.Canny(img_rgb,100,200)\n",
        "plt.imshow(edge)"
      ]
    },
    {
      "cell_type": "code",
      "execution_count": null,
      "metadata": {
        "id": "lFUHj9RpZviO"
      },
      "outputs": [],
      "source": [
        "# Blur image\n",
        "\n",
        "r = resize[130:370,150:300]\n",
        "blur = cv2.GaussianBlur(r,(13,13),cv2.BORDER_DEFAULT)\n",
        "plt.imshow(resize)\n",
        "plt.imshow(blur)"
      ]
    }
  ],
  "metadata": {
    "colab": {
      "provenance": []
    },
    "kernelspec": {
      "display_name": "Python 3",
      "name": "python3"
    },
    "language_info": {
      "name": "python"
    }
  },
  "nbformat": 4,
  "nbformat_minor": 0
}
